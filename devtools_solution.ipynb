{
 "cells": [
  {
   "cell_type": "code",
   "execution_count": 1,
   "metadata": {},
   "outputs": [],
   "source": [
    "from splinter import Browser\n",
    "from bs4 import BeautifulSoup\n",
    "from selenium import webdriver"
   ]
  },
  {
   "cell_type": "code",
   "execution_count": 2,
   "metadata": {},
   "outputs": [],
   "source": [
    "# Open a Chrome window using Splinter\n",
    "# browser = Browser('chrome')"
   ]
  },
  {
   "cell_type": "code",
   "execution_count": 5,
   "metadata": {},
   "outputs": [],
   "source": [
    "\n",
    "# Specify the path to the chromedriver executable if it's not in your PATH\n",
    "browser = webdriver.Chrome()\n"
   ]
  },
  {
   "cell_type": "code",
   "execution_count": 3,
   "metadata": {},
   "outputs": [],
   "source": [
    "# Set the url to visit\n",
    "url = \"https://stackoverflow.com/questions/tagged/python?sort=MostVotes&edited=true\""
   ]
  },
  {
   "cell_type": "code",
   "execution_count": 4,
   "metadata": {},
   "outputs": [],
   "source": [
    "# Use the browser to visit the url\n",
    "# browser.visit(url)\n",
    "\n",
    "browser.get(url)"
   ]
  },
  {
   "cell_type": "code",
   "execution_count": 5,
   "metadata": {},
   "outputs": [],
   "source": [
    "# Gather the html from the current page in the browser\n",
    "# html = browser.html\n",
    "html = browser.page_source"
   ]
  },
  {
   "cell_type": "code",
   "execution_count": 6,
   "metadata": {},
   "outputs": [],
   "source": [
    "soup = BeautifulSoup(html, 'html.parser')"
   ]
  },
  {
   "cell_type": "code",
   "execution_count": 7,
   "metadata": {},
   "outputs": [
    {
     "data": {
      "text/plain": [
       "' Join Stack Overflow'"
      ]
     },
     "execution_count": 7,
     "metadata": {},
     "output_type": "execute_result"
    }
   ],
   "source": [
    "soup.find('h1').text"
   ]
  },
  {
   "cell_type": "code",
   "execution_count": 8,
   "metadata": {},
   "outputs": [
    {
     "data": {
      "text/plain": [
       "'Join Stack Overflow'"
      ]
     },
     "execution_count": 8,
     "metadata": {},
     "output_type": "execute_result"
    }
   ],
   "source": [
    "soup.find('h1').text.strip()"
   ]
  },
  {
   "cell_type": "code",
   "execution_count": 9,
   "metadata": {},
   "outputs": [],
   "source": [
    "questions = soup.find_all('a', class_=\"s-link\")"
   ]
  },
  {
   "cell_type": "code",
   "execution_count": 10,
   "metadata": {},
   "outputs": [
    {
     "data": {
      "text/plain": [
       "[<a class=\"s-link svelte-9quauz\" href=\"/legal/terms-of-service/public\" rel=\"noopener noreferrer\" target=\"_blank\">terms of service</a>,\n",
       " <a class=\"s-link svelte-9quauz\" href=\"/legal/privacy-policy\" rel=\"noopener noreferrer\" target=\"_blank\">privacy policy</a>,\n",
       " <a class=\"s-link\" href=\"/users/login\">Log in</a>,\n",
       " <a aria-controls=\"popover-labs-left-nav\" aria-expanded=\"false\" class=\"s-link s-link d-flex fl-grow1 fc-black-400 h:fc-black-600 fs-fine\" data-action=\"s-popover#toggle\" data-controller=\"s-popover\" data-s-popover-placement=\"top\" data-s-popover-toggle-class=\"is-selected\" href=\"javascript:void(0)\" role=\"button\">\n",
       " <div class=\"flex--item fl-grow1 tt-uppercase fc-black-600 fw-bold\">Labs</div>\n",
       " <div class=\"flex--item px12\">\n",
       " <svg aria-hidden=\"true\" class=\"svg-icon iconInfoSm\" height=\"14\" viewbox=\"0 0 14 14\" width=\"14\"><path d=\"M7 1a6 6 0 1 1 0 12A6 6 0 0 1 7 1m1 10V6H6v5zm0-6V3H6v2z\"></path></svg>\n",
       " </div>\n",
       " </a>,\n",
       " <a aria-controls=\"popover-discover-collectives\" aria-expanded=\"false\" class=\"s-link d-flex fl-grow1 fc-black-400 h:fc-black-600 fs-fine\" data-action=\"s-popover#toggle\" data-controller=\"s-popover\" data-gps-track=\"top_nav.click({is_current:false, location:5, destination:17})\" data-s-popover-placement=\"top\" data-s-popover-toggle-class=\"is-selected\" href=\"javascript:void(0)\" role=\"button\">\n",
       " <div class=\"flex--item fl-grow1 tt-uppercase fc-black-600 fw-bold\">Collectives</div>\n",
       " <div class=\"flex--item px12 js-collectives-navcta-toggle\">\n",
       " <svg aria-hidden=\"true\" class=\"svg-icon iconPlusSm\" height=\"14\" viewbox=\"0 0 14 14\" width=\"14\"><path d=\"M8 2H6v4H2v2h4v4h2V8h4V6H8z\"></path></svg>\n",
       " </div>\n",
       " </a>,\n",
       " <a class=\"s-link s-link__grayscale s-link__underlined fw-bold\" href=\"/collectives-all\">Explore all Collectives</a>,\n",
       " <a aria-controls=\"popover-teams-create-cta\" aria-expanded=\"false\" class=\"s-link d-flex fl-grow1 fc-black-400 h:fc-black-600 fs-fine js-gps-track\" data-action=\"s-popover#toggle\" data-controller=\"s-popover\" data-ga='[\"teams left navigation - anonymous\",\"left nav show teams info\",null,null,null]' data-gps-track=\"teams.create.left-sidenav.click({ Action: ShowInfo })\" data-s-popover-placement=\"bottom-start\" data-s-popover-toggle-class=\"is-selected\" href=\"javascript:void(0)\" role=\"button\">\n",
       " <div class=\"flex--item fl-grow1 fc-black-600 fw-bold tt-uppercase\">Teams</div>\n",
       " <div class=\"flex--item px12\">\n",
       " <svg aria-hidden=\"true\" class=\"svg-icon iconPlusSm\" height=\"14\" viewbox=\"0 0 14 14\" width=\"14\"><path d=\"M8 2H6v4H2v2h4v4h2V8h4V6H8z\"></path></svg>\n",
       " </div>\n",
       " </a>,\n",
       " <a class=\"s-link s-link__grayscale s-link__underlined fw-bold\" href=\"https://stackoverflow.co/teams/?utm_medium=referral&amp;utm_source=stackoverflow-community&amp;utm_campaign=side-bar&amp;utm_content=explore-teams-compact\">Explore Teams</a>,\n",
       " <a class=\"s-link\" href=\"/questions/231767/what-does-the-yield-keyword-do-in-python\">What does the \"yield\" keyword do in Python?</a>,\n",
       " <a class=\"s-link\" href=\"/questions/419163/what-does-if-name-main-do\">What does if __name__ == \"__main__\": do?</a>,\n",
       " <a class=\"s-link\" href=\"/questions/394809/does-python-have-a-ternary-conditional-operator\">Does Python have a ternary conditional operator?</a>,\n",
       " <a class=\"s-link\" href=\"/questions/100003/what-are-metaclasses-in-python\">What are metaclasses in Python?</a>,\n",
       " <a class=\"s-link\" href=\"/questions/82831/how-do-i-check-whether-a-file-exists-without-exceptions\">How do I check whether a file exists without exceptions?</a>,\n",
       " <a class=\"s-link\" href=\"/questions/38987/how-do-i-merge-two-dictionaries-in-a-single-expression-in-python\">How do I merge two dictionaries in a single expression in Python?</a>,\n",
       " <a class=\"s-link\" href=\"/questions/89228/how-do-i-execute-a-program-or-call-a-system-command\">How do I execute a program or call a system command?</a>,\n",
       " <a class=\"s-link\" href=\"/questions/273192/how-do-i-create-a-directory-and-any-missing-parent-directories\">How do I create a directory, and any missing parent directories?</a>,\n",
       " <a class=\"s-link\" href=\"/questions/522563/how-to-access-the-index-value-in-a-for-loop\">How to access the index value in a 'for' loop?</a>,\n",
       " <a class=\"s-link\" href=\"/questions/952914/how-do-i-make-a-flat-list-out-of-a-list-of-lists\">How do I make a flat list out of a list of lists?</a>,\n",
       " <a class=\"s-link\" href=\"/questions/136097/what-is-the-difference-between-staticmethod-and-classmethod-in-python\">What is the difference between @staticmethod and @classmethod in Python?</a>,\n",
       " <a class=\"s-link\" href=\"/questions/509211/how-slicing-in-python-works\">How slicing in Python works</a>,\n",
       " <a class=\"s-link\" href=\"/questions/176918/how-to-find-the-index-for-a-given-item-in-a-list\">How to find the index for a given item in a list?</a>,\n",
       " <a class=\"s-link\" href=\"/questions/3294889/iterating-over-dictionaries-using-for-loops\">Iterating over dictionaries using 'for' loops</a>,\n",
       " <a class=\"s-link\" href=\"/questions/16476924/how-can-i-iterate-over-rows-in-a-pandas-dataframe\">How can I iterate over rows in a Pandas DataFrame?</a>,\n",
       " <a class=\"js-gps-track s-link s-link__inherit\" data-gps-track=\"posts_hot_network.click({ item_type:1, location:9 })\" href=\"https://stackexchange.com/questions?tab=hot\">\n",
       "             Hot Network Questions\n",
       "         </a>,\n",
       " <a class=\"-link s-link td-underline\" href=\"https://stackoverflow.com/help/licensing\">CC BY-SA</a>]"
      ]
     },
     "execution_count": 10,
     "metadata": {},
     "output_type": "execute_result"
    }
   ],
   "source": [
    "questions"
   ]
  },
  {
   "cell_type": "code",
   "execution_count": 11,
   "metadata": {},
   "outputs": [
    {
     "name": "stdout",
     "output_type": "stream",
     "text": [
      "['s-link', 'svelte-9quauz']\n",
      "['s-link', 'svelte-9quauz']\n",
      "['s-link']\n",
      "['s-link', 's-link', 'd-flex', 'fl-grow1', 'fc-black-400', 'h:fc-black-600', 'fs-fine']\n",
      "['s-link', 'd-flex', 'fl-grow1', 'fc-black-400', 'h:fc-black-600', 'fs-fine']\n",
      "['s-link', 's-link__grayscale', 's-link__underlined', 'fw-bold']\n",
      "['s-link', 'd-flex', 'fl-grow1', 'fc-black-400', 'h:fc-black-600', 'fs-fine', 'js-gps-track']\n",
      "['s-link', 's-link__grayscale', 's-link__underlined', 'fw-bold']\n",
      "['s-link']\n",
      "['s-link']\n",
      "['s-link']\n",
      "['s-link']\n",
      "['s-link']\n",
      "['s-link']\n",
      "['s-link']\n",
      "['s-link']\n",
      "['s-link']\n",
      "['s-link']\n",
      "['s-link']\n",
      "['s-link']\n",
      "['s-link']\n",
      "['s-link']\n",
      "['s-link']\n",
      "['js-gps-track', 's-link', 's-link__inherit']\n",
      "['-link', 's-link', 'td-underline']\n"
     ]
    }
   ],
   "source": [
    "for question in questions:\n",
    "    print(question['class'])"
   ]
  },
  {
   "cell_type": "code",
   "execution_count": 12,
   "metadata": {},
   "outputs": [
    {
     "data": {
      "text/plain": [
       "[<a class=\"s-link\" href=\"/users/login\">Log in</a>,\n",
       " <a class=\"s-link\" href=\"/questions/231767/what-does-the-yield-keyword-do-in-python\">What does the \"yield\" keyword do in Python?</a>,\n",
       " <a class=\"s-link\" href=\"/questions/419163/what-does-if-name-main-do\">What does if __name__ == \"__main__\": do?</a>,\n",
       " <a class=\"s-link\" href=\"/questions/394809/does-python-have-a-ternary-conditional-operator\">Does Python have a ternary conditional operator?</a>,\n",
       " <a class=\"s-link\" href=\"/questions/100003/what-are-metaclasses-in-python\">What are metaclasses in Python?</a>,\n",
       " <a class=\"s-link\" href=\"/questions/82831/how-do-i-check-whether-a-file-exists-without-exceptions\">How do I check whether a file exists without exceptions?</a>,\n",
       " <a class=\"s-link\" href=\"/questions/38987/how-do-i-merge-two-dictionaries-in-a-single-expression-in-python\">How do I merge two dictionaries in a single expression in Python?</a>,\n",
       " <a class=\"s-link\" href=\"/questions/89228/how-do-i-execute-a-program-or-call-a-system-command\">How do I execute a program or call a system command?</a>,\n",
       " <a class=\"s-link\" href=\"/questions/273192/how-do-i-create-a-directory-and-any-missing-parent-directories\">How do I create a directory, and any missing parent directories?</a>,\n",
       " <a class=\"s-link\" href=\"/questions/522563/how-to-access-the-index-value-in-a-for-loop\">How to access the index value in a 'for' loop?</a>,\n",
       " <a class=\"s-link\" href=\"/questions/952914/how-do-i-make-a-flat-list-out-of-a-list-of-lists\">How do I make a flat list out of a list of lists?</a>,\n",
       " <a class=\"s-link\" href=\"/questions/136097/what-is-the-difference-between-staticmethod-and-classmethod-in-python\">What is the difference between @staticmethod and @classmethod in Python?</a>,\n",
       " <a class=\"s-link\" href=\"/questions/509211/how-slicing-in-python-works\">How slicing in Python works</a>,\n",
       " <a class=\"s-link\" href=\"/questions/176918/how-to-find-the-index-for-a-given-item-in-a-list\">How to find the index for a given item in a list?</a>,\n",
       " <a class=\"s-link\" href=\"/questions/3294889/iterating-over-dictionaries-using-for-loops\">Iterating over dictionaries using 'for' loops</a>,\n",
       " <a class=\"s-link\" href=\"/questions/16476924/how-can-i-iterate-over-rows-in-a-pandas-dataframe\">How can I iterate over rows in a Pandas DataFrame?</a>]"
      ]
     },
     "execution_count": 12,
     "metadata": {},
     "output_type": "execute_result"
    }
   ],
   "source": [
    "questions = [question for question in questions if question['class']==['s-link']]\n",
    "questions"
   ]
  },
  {
   "cell_type": "code",
   "execution_count": 13,
   "metadata": {},
   "outputs": [
    {
     "data": {
      "text/plain": [
       "'/users/login'"
      ]
     },
     "execution_count": 13,
     "metadata": {},
     "output_type": "execute_result"
    }
   ],
   "source": [
    "questions[0]['href']"
   ]
  },
  {
   "cell_type": "code",
   "execution_count": 14,
   "metadata": {},
   "outputs": [
    {
     "data": {
      "text/plain": [
       "'Log in'"
      ]
     },
     "execution_count": 14,
     "metadata": {},
     "output_type": "execute_result"
    }
   ],
   "source": [
    "questions[0].text"
   ]
  },
  {
   "cell_type": "code",
   "execution_count": 15,
   "metadata": {},
   "outputs": [],
   "source": [
    "browser.quit()"
   ]
  },
  {
   "cell_type": "code",
   "execution_count": null,
   "metadata": {},
   "outputs": [],
   "source": []
  }
 ],
 "metadata": {
  "kernelspec": {
   "display_name": "Python 3 (ipykernel)",
   "language": "python",
   "name": "python3"
  },
  "language_info": {
   "codemirror_mode": {
    "name": "ipython",
    "version": 3
   },
   "file_extension": ".py",
   "mimetype": "text/x-python",
   "name": "python",
   "nbconvert_exporter": "python",
   "pygments_lexer": "ipython3",
   "version": "3.12.4"
  }
 },
 "nbformat": 4,
 "nbformat_minor": 4
}
