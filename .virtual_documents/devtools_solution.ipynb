from splinter import Browser
from bs4 import BeautifulSoup
from selenium import webdriver


# Open a Chrome window using Splinter
# browser = Browser('chrome')



# Specify the path to the chromedriver executable if it's not in your PATH
browser = webdriver.Chrome()



# Set the url to visit
url = "https://stackoverflow.com/questions/tagged/python?sort=MostVotes&edited=true"


# Use the browser to visit the url
# browser.visit(url)

browser.get(url)


# Gather the html from the current page in the browser
# html = browser.html
html = browser.page_source


soup = BeautifulSoup(html, 'html.parser')


soup.find('h1').text


soup.find('h1').text.strip()


questions = soup.find_all('a', class_="s-link")


questions


for question in questions:
    print(question['class'])


questions = [question for question in questions if question['class']==['s-link']]
questions


questions[0]['href']


questions[0].text


browser.quit()



