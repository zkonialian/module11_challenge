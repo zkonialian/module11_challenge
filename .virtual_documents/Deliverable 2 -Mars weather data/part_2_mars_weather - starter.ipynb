


# Import relevant libraries
from splinter import Browser
from bs4 import BeautifulSoup
import matplotlib.pyplot as plt
import pandas as pd


browser = Browser('chrome')





# Visit the website
# https://static.bc-edx.com/data/web/mars_facts/temperature.html
url = "https://static.bc-edx.com/data/web/mars_facts/temperature.html"
browser.visit(url)





# Create a Beautiful Soup Object



# Extract all rows of data






# Create an empty list


# Loop through the scraped data to create a list of rows



# Create a Pandas DataFrame by using the list of rows and a list of the column names



# Confirm DataFrame was created successfully






# Examine data type of each column



# Change data types for data analysis



# Confirm type changes were successful by examining data types again






# 1. How many months are there on Mars?



# 2. How many sols (Martian days) worth of data are there?



# 3. What is the average minimum temperature by month?



# Plot the average minimum temperature by month



# Identify the coldest and hottest months in Curiosity's location by sorting the previous graph



# 4. What is the average pressure by month?



# Plot the average pressure by month



# Identify the lowest and highest pressure months in Curiosity's location by sorting the previous graph



# 5. How many terrestrial (Earth) days are there in a Martian year?
# Visually estimate the result by plotting the daily minimum temperature of each observation in the data set.















# Write the data to a CSV



browser.quit()
