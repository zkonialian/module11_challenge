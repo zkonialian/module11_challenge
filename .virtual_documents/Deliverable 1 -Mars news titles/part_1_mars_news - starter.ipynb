


# Import Splinter and BeautifulSoup
from splinter import Browser
from bs4 import BeautifulSoup


browser = Browser('chrome')





# Visit the Mars news site
url = 'https://static.bc-edx.com/data/web/mars_news/index.html'
browser.visit(url)





# Create a Beautiful Soup object



# Extract all the text elements






# Create an empty list to store the dictionaries



# Loop through the text elements
# Extract the title and preview text from the elements
# Store each title and preview pair in a dictionary
# Add the dictionary to the list



# Print the list to confirm success



browser.quit()



