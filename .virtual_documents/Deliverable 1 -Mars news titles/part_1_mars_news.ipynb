


# Import Splinter and BeautifulSoup
from splinter import Browser
from bs4 import BeautifulSoup
from selenium import webdriver


# browser = Browser('chrome')
browser = webdriver.Chrome()





# Visit the Mars news site
url = 'https://static.bc-edx.com/data/web/mars_news/index.html'
browser.get(url)





# Create a Beautiful Soup object
html = browser.page_source
soup = BeautifulSoup(html, 'html.parser')
soup


# Extract all the text elements
title_tags = soup.find_all('div', class_='content_title')
preview_tags = soup.find_all('div', class_='article_teaser_body')








# Create an empty list to store the dictionaries
tags_list = []



# for i in range(2,10):
#     print(i)


# l = ['A','B','C']
# for item in l:
#     print(item)


# Loop through the text elements, zip is looping through python lists of equal length 
for t, p in zip(title_tags, preview_tags):
    #print(t.text, p.text)
    # Extract the title and preview text from the elements
    # Store each title and preview pair in a dictionary
    tags_dict = {
        'title':t.text,
        'preview':p.text
    }
    # Add the dictionary to the list (see cell above for the created list "tags_list")
    tags_list.append(tags_dict)




# Print the list to confirm success
tags_list


browser.quit()



